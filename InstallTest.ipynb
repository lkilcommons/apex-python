{
 "metadata": {
  "name": ""
 },
 "nbformat": 3,
 "nbformat_minor": 0,
 "worksheets": [
  {
   "cells": [
    {
     "cell_type": "code",
     "collapsed": false,
     "input": [
      "from spacepy import pycdf"
     ],
     "language": "python",
     "metadata": {},
     "outputs": [
      {
       "output_type": "stream",
       "stream": "stdout",
       "text": [
        "SpacePy: Space Science Tools for Python\n",
        "  See __licence__ and __citation__ for licensing, and help() for HTML help.\n",
        "Data and configuration installed to /home/liamk/.spacepy\n",
        "Downloading OMNI database and leap seconds table is recommended:\n",
        "\timport spacepy.toolbox; spacepy.toolbox.update()\n",
        "Thanks for using SpacePy!\n"
       ]
      }
     ],
     "prompt_number": 1
    },
    {
     "cell_type": "code",
     "collapsed": false,
     "input": [
      "import apex"
     ],
     "language": "python",
     "metadata": {},
     "outputs": [],
     "prompt_number": 2
    },
    {
     "cell_type": "code",
     "collapsed": false,
     "input": [
      "import spacepy"
     ],
     "language": "python",
     "metadata": {},
     "outputs": [],
     "prompt_number": 5
    },
    {
     "cell_type": "code",
     "collapsed": false,
     "input": [
      "print spacepy.__citation__"
     ],
     "language": "python",
     "metadata": {},
     "outputs": [
      {
       "output_type": "stream",
       "stream": "stdout",
       "text": [
        "When publishing research which used SpacePy, please provide appropriate\n",
        "credit to the SpacePy team via citation or acknowledgement.\n",
        "\n",
        "To cite SpacePy in publications, use (BibTeX code):\n",
        "@INPROCEEDINGS{spacepy11,\n",
        "author = {{Morley}, S.~K. and {Koller}, J. and {Welling}, D.~T. and {Larsen}, B.~A. and {Henderson}, M.~G. and {Niehof}, J.~T.},\n",
        "title = \"{Spacepy - A Python-based library of tools for the space sciences}\",\n",
        "booktitle = \"{Proceedings of the 9th Python in science conference (SciPy 2010)}\",\n",
        "year = 2011,\n",
        "address = {Austin, TX}\n",
        "}\n",
        "\n",
        "Certain modules may provide additional citations in the __citation__\n",
        "attribute. Contact a module's author before publication or public\n",
        "presentation of analysis performed by that module. This allows the author\n",
        "to validate the analysis and receive appropriate credit for his or her\n",
        "work.\n",
        "\n"
       ]
      }
     ],
     "prompt_number": 8
    }
   ],
   "metadata": {}
  }
 ]
}